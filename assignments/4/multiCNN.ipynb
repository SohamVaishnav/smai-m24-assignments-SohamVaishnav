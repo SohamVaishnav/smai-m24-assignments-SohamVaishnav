{
 "cells": [
  {
   "cell_type": "code",
   "execution_count": 1,
   "metadata": {},
   "outputs": [],
   "source": [
    "import numpy as np\n",
    "from plotly import express as px\n",
    "from plotly import subplots as sp\n",
    "from plotly import graph_objects as go\n",
    "from matplotlib import pyplot as plt\n",
    "import pandas as pd\n",
    "import sys\n",
    "import os\n",
    "import wandb\n",
    "\n",
    "import cv2\n",
    "\n",
    "import torch\n",
    "import torch.nn as nn\n",
    "import torch.nn.functional as F\n",
    "import torch.optim as optim\n",
    "\n",
    "import torchvision\n",
    "from torch.utils.data import random_split\n",
    "from torch.utils.data import DataLoader\n",
    "\n",
    "import torchvision.transforms as transforms\n",
    "\n",
    "AssignDIR = os.path.dirname(os.path.dirname(os.path.abspath('CNN.ipynb')))\n",
    "CurrDIR = os.path.dirname(os.path.abspath('CNN.ipynb'))\n",
    "UserDIR = os.path.dirname(AssignDIR)\n",
    "\n",
    "sys.path.append(UserDIR)\n",
    "\n",
    "RawDataDIR = os.path.join(UserDIR, \"./data/external/\")\n",
    "PreProcessDIR = os.path.join(UserDIR, \"./data/interim/4/\")\n",
    "\n",
    "from utils_4 import *\n",
    "from models.cnn import cnn\n",
    "from models.cnn import multilabel_cnn"
   ]
  },
  {
   "cell_type": "code",
   "execution_count": 2,
   "metadata": {},
   "outputs": [],
   "source": [
    "dataloader_multi = MultiMNISTDataset(32)\n",
    "dataloader_multi.load_mnist_data('multi_label')"
   ]
  },
  {
   "cell_type": "code",
   "execution_count": 3,
   "metadata": {},
   "outputs": [],
   "source": [
    "train_labels = dataloader_multi.OneHotEncoder(dataloader_multi._train_labels)\n",
    "valid_labels = dataloader_multi.OneHotEncoder(dataloader_multi._valid_labels)\n",
    "test_labels = dataloader_multi.OneHotEncoder(dataloader_multi._test_labels)"
   ]
  },
  {
   "cell_type": "code",
   "execution_count": 4,
   "metadata": {},
   "outputs": [],
   "source": [
    "config_model = {'task': [], 'in_channels': [], 'ConvLayers': [], 'FCLayers': [], 'pool': [], \n",
    "                'kernel_size': [], 'strides': [], 'activation': [], 'dropout': []}\n",
    "\n",
    "config_trainer = {'model': [], 'loss': [], 'epochs': [], 'batch_size': [], 'learning_rate': [], \n",
    "                  'optimizer': [], 'wandb': False, 'labels': [], 'labelsRnum': True, 'FM_Vis': False}"
   ]
  },
  {
   "cell_type": "code",
   "execution_count": 6,
   "metadata": {},
   "outputs": [
    {
     "name": "stdout",
     "output_type": "stream",
     "text": [
      "Epoch:  0\n"
     ]
    },
    {
     "ename": "ZeroDivisionError",
     "evalue": "division by zero",
     "output_type": "error",
     "traceback": [
      "\u001b[1;31m---------------------------------------------------------------------------\u001b[0m",
      "\u001b[1;31mZeroDivisionError\u001b[0m                         Traceback (most recent call last)",
      "Cell \u001b[1;32mIn[6], line 25\u001b[0m\n\u001b[0;32m     22\u001b[0m config_trainer[\u001b[38;5;124m'\u001b[39m\u001b[38;5;124mFM_Vis\u001b[39m\u001b[38;5;124m'\u001b[39m] \u001b[38;5;241m=\u001b[39m \u001b[38;5;28;01mFalse\u001b[39;00m\n\u001b[0;32m     24\u001b[0m trainer \u001b[38;5;241m=\u001b[39m multilabel_cnn\u001b[38;5;241m.\u001b[39mModel_trainer(config_trainer)\n\u001b[1;32m---> 25\u001b[0m \u001b[43mtrainer\u001b[49m\u001b[38;5;241;43m.\u001b[39;49m\u001b[43mtrainer\u001b[49m\u001b[43m(\u001b[49m\u001b[43mdataloader_multi\u001b[49m\u001b[38;5;241;43m.\u001b[39;49m\u001b[43m_train_images\u001b[49m\u001b[43m,\u001b[49m\u001b[43m \u001b[49m\u001b[43mtrain_labels\u001b[49m\u001b[43m,\u001b[49m\u001b[43m \u001b[49m\n\u001b[0;32m     26\u001b[0m \u001b[43m                \u001b[49m\u001b[43mdataloader_multi\u001b[49m\u001b[38;5;241;43m.\u001b[39;49m\u001b[43m_valid_images\u001b[49m\u001b[43m,\u001b[49m\u001b[43m \u001b[49m\u001b[43mvalid_labels\u001b[49m\u001b[43m,\u001b[49m\u001b[43m \u001b[49m\u001b[38;5;241;43m1\u001b[39;49m\u001b[43m)\u001b[49m\n\u001b[0;32m     27\u001b[0m \u001b[38;5;66;03m# trainer.evaluate(dataloader._test_images, dataloader._test_labels, True)\u001b[39;00m\n",
      "File \u001b[1;32mc:\\Users\\Admin\\smai-m24-assignments-SohamVaishnav\\models\\cnn\\multilabel_cnn.py:180\u001b[0m, in \u001b[0;36mModel_trainer.trainer\u001b[1;34m(self, X_train, y_train, X_valid, y_valid, epochs)\u001b[0m\n\u001b[0;32m    177\u001b[0m     \u001b[38;5;28mself\u001b[39m\u001b[38;5;241m.\u001b[39m_optimizer\u001b[38;5;241m.\u001b[39mstep()\n\u001b[0;32m    178\u001b[0m     \u001b[38;5;28mself\u001b[39m\u001b[38;5;241m.\u001b[39m_optimizer\u001b[38;5;241m.\u001b[39mzero_grad()\n\u001b[1;32m--> 180\u001b[0m acc_train, loss_train, y_pred_train \u001b[38;5;241m=\u001b[39m \u001b[38;5;28;43mself\u001b[39;49m\u001b[38;5;241;43m.\u001b[39;49m\u001b[43mevaluate\u001b[49m\u001b[43m(\u001b[49m\u001b[43mX_train\u001b[49m\u001b[43m,\u001b[49m\u001b[43m \u001b[49m\u001b[43my_train\u001b[49m\u001b[43m,\u001b[49m\u001b[43m \u001b[49m\u001b[38;5;28;43;01mFalse\u001b[39;49;00m\u001b[43m)\u001b[49m\n\u001b[0;32m    181\u001b[0m acc_valid, loss_valid, y_pred_val \u001b[38;5;241m=\u001b[39m \u001b[38;5;28mself\u001b[39m\u001b[38;5;241m.\u001b[39mevaluate(X_valid, y_valid, \u001b[38;5;28;01mFalse\u001b[39;00m)\n\u001b[0;32m    183\u001b[0m \u001b[38;5;66;03m# y_train = torch.tensor(y_train)\u001b[39;00m\n\u001b[0;32m    184\u001b[0m \u001b[38;5;66;03m# y_valid = torch.tensor(y_valid)\u001b[39;00m\n\u001b[0;32m    185\u001b[0m \u001b[38;5;66;03m# prec_train = self.precision(y_train, y_pred_train)\u001b[39;00m\n\u001b[1;32m   (...)\u001b[0m\n\u001b[0;32m    199\u001b[0m \u001b[38;5;66;03m#     wandb.log({'Train F1 Score': f1_train[0], 'Valid F1 Score': f1_valid[0]})\u001b[39;00m\n\u001b[0;32m    200\u001b[0m \u001b[38;5;66;03m#     wandb.log({'epoch': epoch})\u001b[39;00m\n",
      "File \u001b[1;32mc:\\Users\\Admin\\smai-m24-assignments-SohamVaishnav\\models\\cnn\\multilabel_cnn.py:242\u001b[0m, in \u001b[0;36mModel_trainer.evaluate\u001b[1;34m(self, X_test, y_test, isTest)\u001b[0m\n\u001b[0;32m    239\u001b[0m     \u001b[38;5;28;01melif\u001b[39;00m (\u001b[38;5;28mself\u001b[39m\u001b[38;5;241m.\u001b[39m_loss \u001b[38;5;241m==\u001b[39m \u001b[38;5;124m'\u001b[39m\u001b[38;5;124mKLD\u001b[39m\u001b[38;5;124m'\u001b[39m):\n\u001b[0;32m    240\u001b[0m         loss\u001b[38;5;241m.\u001b[39mappend(F\u001b[38;5;241m.\u001b[39mkl_div(y_pred[\u001b[38;5;241m-\u001b[39m\u001b[38;5;241m1\u001b[39m], label))\n\u001b[1;32m--> 242\u001b[0m     acc\u001b[38;5;241m.\u001b[39mappend(\u001b[38;5;28;43mself\u001b[39;49m\u001b[38;5;241;43m.\u001b[39;49m\u001b[43mHamminAccuracy\u001b[49m\u001b[43m(\u001b[49m\u001b[43my_pred\u001b[49m\u001b[43m[\u001b[49m\u001b[38;5;241;43m-\u001b[39;49m\u001b[38;5;241;43m1\u001b[39;49m\u001b[43m]\u001b[49m\u001b[43m,\u001b[49m\u001b[43m \u001b[49m\u001b[43mlabel\u001b[49m\u001b[43m)\u001b[49m)\n\u001b[0;32m    244\u001b[0m \u001b[38;5;28mprint\u001b[39m(\u001b[38;5;124m\"\u001b[39m\u001b[38;5;124mAcc = \u001b[39m\u001b[38;5;124m\"\u001b[39m, np\u001b[38;5;241m.\u001b[39mmean(acc))\n\u001b[0;32m    245\u001b[0m \u001b[38;5;28mprint\u001b[39m(\u001b[38;5;124m\"\u001b[39m\u001b[38;5;124mLoss = \u001b[39m\u001b[38;5;124m\"\u001b[39m, np\u001b[38;5;241m.\u001b[39mmean(loss))\n",
      "File \u001b[1;32mc:\\Users\\Admin\\smai-m24-assignments-SohamVaishnav\\models\\cnn\\multilabel_cnn.py:112\u001b[0m, in \u001b[0;36mModel_trainer.HamminAccuracy\u001b[1;34m(self, y_pred, y_true)\u001b[0m\n\u001b[0;32m    110\u001b[0m \u001b[38;5;28;01mfor\u001b[39;00m i \u001b[38;5;129;01min\u001b[39;00m \u001b[38;5;28mrange\u001b[39m(\u001b[38;5;28mlen\u001b[39m(pred)):\n\u001b[0;32m    111\u001b[0m     hamming \u001b[38;5;241m+\u001b[39m\u001b[38;5;241m=\u001b[39m torch\u001b[38;5;241m.\u001b[39msum(pred[i] \u001b[38;5;241m==\u001b[39m true[i])\n\u001b[1;32m--> 112\u001b[0m \u001b[38;5;28;01mreturn\u001b[39;00m \u001b[43mhamming\u001b[49m\u001b[43m \u001b[49m\u001b[38;5;241;43m/\u001b[39;49m\u001b[43m \u001b[49m\u001b[43m(\u001b[49m\u001b[38;5;28;43mlen\u001b[39;49m\u001b[43m(\u001b[49m\u001b[43mpred\u001b[49m\u001b[43m)\u001b[49m\u001b[43m)\u001b[49m\n",
      "\u001b[1;31mZeroDivisionError\u001b[0m: division by zero"
     ]
    }
   ],
   "source": [
    "config_model['task'] = 'classification'\n",
    "config_model['in_channels'] = 1\n",
    "config_model['ConvLayers'] = [32, 64, 128]\n",
    "config_model['FCLayers'] = [128*8*8, 512, 33]\n",
    "config_model['kernel_size'] = [3, 3, 3]\n",
    "config_model['strides'] = [1, 1, 1]\n",
    "config_model['pool'] = [2, 2, 2]\n",
    "config_model['activation'] = 'relu'\n",
    "config_model['dropout'] = None\n",
    "\n",
    "model = multilabel_cnn.MultiCNN(config_model)\n",
    "\n",
    "config_trainer['model'] = model\n",
    "config_trainer['loss'] = 'BCE'\n",
    "config_trainer['epochs'] = 10\n",
    "config_trainer['batch_size'] = 64\n",
    "config_trainer['learning_rate'] = 0.001\n",
    "config_trainer['optimizer'] = optim.Adam(model.parameters(), lr=config_trainer['learning_rate'])\n",
    "config_trainer['wandb'] = False\n",
    "config_trainer['labels'] = dataloader_multi.getLabels('multi_label')\n",
    "config_trainer['labelsRnum'] = False\n",
    "config_trainer['FM_Vis'] = False\n",
    "\n",
    "trainer = multilabel_cnn.Model_trainer(config_trainer)\n",
    "trainer.trainer(dataloader_multi._train_images, train_labels, \n",
    "                dataloader_multi._valid_images, valid_labels, 1)\n",
    "# trainer.evaluate(dataloader._test_images, dataloader._test_labels, True)"
   ]
  }
 ],
 "metadata": {
  "kernelspec": {
   "display_name": "Python 3",
   "language": "python",
   "name": "python3"
  },
  "language_info": {
   "codemirror_mode": {
    "name": "ipython",
    "version": 3
   },
   "file_extension": ".py",
   "mimetype": "text/x-python",
   "name": "python",
   "nbconvert_exporter": "python",
   "pygments_lexer": "ipython3",
   "version": "3.11.4"
  }
 },
 "nbformat": 4,
 "nbformat_minor": 2
}
