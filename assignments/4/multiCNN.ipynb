{
 "cells": [
  {
   "cell_type": "code",
   "execution_count": 1,
   "metadata": {},
   "outputs": [],
   "source": [
    "import numpy as np\n",
    "from plotly import express as px\n",
    "from plotly import subplots as sp\n",
    "from plotly import graph_objects as go\n",
    "from matplotlib import pyplot as plt\n",
    "import pandas as pd\n",
    "import sys\n",
    "import os\n",
    "import wandb\n",
    "\n",
    "import cv2\n",
    "\n",
    "import torch\n",
    "import torch.nn as nn\n",
    "import torch.nn.functional as F\n",
    "import torch.optim as optim\n",
    "\n",
    "import torchvision\n",
    "from torch.utils.data import random_split\n",
    "from torch.utils.data import DataLoader\n",
    "\n",
    "import torchvision.transforms as transforms\n",
    "\n",
    "AssignDIR = os.path.dirname(os.path.dirname(os.path.abspath('CNN.ipynb')))\n",
    "CurrDIR = os.path.dirname(os.path.abspath('CNN.ipynb'))\n",
    "UserDIR = os.path.dirname(AssignDIR)\n",
    "\n",
    "sys.path.append(UserDIR)\n",
    "\n",
    "RawDataDIR = os.path.join(UserDIR, \"./data/external/\")\n",
    "PreProcessDIR = os.path.join(UserDIR, \"./data/interim/4/\")\n",
    "\n",
    "from utils_4 import *\n",
    "from models.cnn import cnn\n",
    "from models.cnn import multilabel_cnn"
   ]
  },
  {
   "cell_type": "code",
   "execution_count": 2,
   "metadata": {},
   "outputs": [],
   "source": [
    "dataloader_multi = MultiMNISTDataset(32)\n",
    "dataloader_multi.load_mnist_data('multi_label')"
   ]
  },
  {
   "cell_type": "code",
   "execution_count": 3,
   "metadata": {},
   "outputs": [],
   "source": [
    "train_labels = dataloader_multi.OneHotEncoder(dataloader_multi._train_labels)\n",
    "valid_labels = dataloader_multi.OneHotEncoder(dataloader_multi._valid_labels)\n",
    "test_labels = dataloader_multi.OneHotEncoder(dataloader_multi._test_labels)"
   ]
  },
  {
   "cell_type": "code",
   "execution_count": 4,
   "metadata": {},
   "outputs": [],
   "source": [
    "config_model = {'task': [], 'in_channels': [], 'ConvLayers': [], 'FCLayers': [], 'pool': [], \n",
    "                'kernel_size': [], 'strides': [], 'activation': [], 'dropout': []}\n",
    "\n",
    "config_trainer = {'model': [], 'loss': [], 'epochs': [], 'batch_size': [], 'learning_rate': [], \n",
    "                  'optimizer': [], 'wandb': False, 'labels': [], 'labelsRnum': True, 'FM_Vis': False}"
   ]
  },
  {
   "cell_type": "code",
   "execution_count": 5,
   "metadata": {},
   "outputs": [
    {
     "name": "stdout",
     "output_type": "stream",
     "text": [
      "Epoch:  0\n",
      "Acc =  0.40057291666666667\n",
      "Loss =  0.72965956\n",
      "Acc =  0.4111328125\n",
      "Loss =  0.72959906\n",
      "Epoch:  1\n",
      "Acc =  0.4292187500000001\n",
      "Loss =  0.7235325\n",
      "Acc =  0.4373914930555556\n",
      "Loss =  0.7232525\n",
      "Epoch:  2\n",
      "Acc =  0.433984375\n",
      "Loss =  0.71364695\n",
      "Acc =  0.439236111111111\n",
      "Loss =  0.7130387\n",
      "Epoch:  3\n",
      "Acc =  0.4327083333333333\n",
      "Loss =  0.70947266\n",
      "Acc =  0.43901909722222215\n",
      "Loss =  0.7087706\n",
      "Epoch:  4\n",
      "Acc =  0.4350260416666667\n",
      "Loss =  0.70764697\n",
      "Acc =  0.439236111111111\n",
      "Loss =  0.70693016\n"
     ]
    }
   ],
   "source": [
    "config_model['task'] = 'classification'\n",
    "config_model['in_channels'] = 1\n",
    "config_model['ConvLayers'] = [32, 64]\n",
    "config_model['FCLayers'] = [64*7*7, 512, 33]\n",
    "config_model['kernel_size'] = [3, 3, 3]\n",
    "config_model['strides'] = [1, 1, 1]\n",
    "config_model['pool'] = [2, 2, 2]\n",
    "config_model['activation'] = 'relu'\n",
    "config_model['dropout'] = 0.3\n",
    "\n",
    "model = multilabel_cnn.MultiCNN(config_model)\n",
    "\n",
    "config_trainer['model'] = model\n",
    "config_trainer['loss'] = 'BCE'\n",
    "config_trainer['epochs'] = 10\n",
    "config_trainer['batch_size'] = 256\n",
    "config_trainer['learning_rate'] = 1e-5\n",
    "config_trainer['optimizer'] = optim.Adam(model.parameters(), lr=config_trainer['learning_rate'])\n",
    "config_trainer['wandb'] = False\n",
    "config_trainer['labels'] = dataloader_multi.getLabels('multi_label')\n",
    "config_trainer['labelsRnum'] = False\n",
    "config_trainer['FM_Vis'] = False\n",
    "\n",
    "trainer = multilabel_cnn.Model_trainer(config_trainer)\n",
    "trainer.trainer(dataloader_multi._train_images, train_labels, \n",
    "                dataloader_multi._valid_images, valid_labels, 5)"
   ]
  }
 ],
 "metadata": {
  "kernelspec": {
   "display_name": "Python 3",
   "language": "python",
   "name": "python3"
  },
  "language_info": {
   "codemirror_mode": {
    "name": "ipython",
    "version": 3
   },
   "file_extension": ".py",
   "mimetype": "text/x-python",
   "name": "python",
   "nbconvert_exporter": "python",
   "pygments_lexer": "ipython3",
   "version": "3.11.4"
  }
 },
 "nbformat": 4,
 "nbformat_minor": 2
}
