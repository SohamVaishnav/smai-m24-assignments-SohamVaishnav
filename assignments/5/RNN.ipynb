{
 "cells": [
  {
   "cell_type": "markdown",
   "metadata": {},
   "source": [
    "# Assignment 5 - RNN\n",
    "## Task: 4\n",
    "Author: Soham Vaishnav\n",
    "Roll No.: 2022112002"
   ]
  },
  {
   "cell_type": "markdown",
   "metadata": {},
   "source": [
    "## Importing modules"
   ]
  },
  {
   "cell_type": "code",
   "execution_count": null,
   "metadata": {},
   "outputs": [],
   "source": [
    "import numpy as np\n",
    "import pandas as pd\n",
    "import matplotlib.pyplot as plt\n",
    "import wandb\n",
    "\n",
    "import os\n",
    "import sys \n",
    "import shutil\n",
    "import time\n",
    "\n",
    "import plotly.express as px\n",
    "import plotly.subplots as sp\n",
    "import plotly.graph_objects as go\n",
    "\n",
    "AssignDIR = os.path.dirname(os.path.dirname(os.path.abspath('RNN.ipynb')))\n",
    "CurrDIR = os.path.dirname(os.path.abspath('RNN.ipynb'))\n",
    "UserDIR = os.path.dirname(AssignDIR)\n",
    "\n",
    "sys.path.append(UserDIR)\n",
    "\n",
    "from sklearn.preprocessing import StandardScaler\n",
    "import librosa\n",
    "\n",
    "RawDataDIR = os.path.join(UserDIR, \"./data/external/\")\n",
    "PreProcessDIR = os.path.join(UserDIR, \"./data/interim/5/\")"
   ]
  },
  {
   "cell_type": "markdown",
   "metadata": {},
   "source": [
    "## Loading Dataset"
   ]
  }
 ],
 "metadata": {
  "kernelspec": {
   "display_name": "Python 3",
   "language": "python",
   "name": "python3"
  },
  "language_info": {
   "codemirror_mode": {
    "name": "ipython",
    "version": 3
   },
   "file_extension": ".py",
   "mimetype": "text/x-python",
   "name": "python",
   "nbconvert_exporter": "python",
   "pygments_lexer": "ipython3",
   "version": "3.11.4"
  }
 },
 "nbformat": 4,
 "nbformat_minor": 2
}
